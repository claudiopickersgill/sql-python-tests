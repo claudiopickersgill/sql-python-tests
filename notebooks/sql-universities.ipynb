{
 "cells": [
  {
   "cell_type": "code",
   "execution_count": 2,
   "metadata": {},
   "outputs": [],
   "source": [
    "import sqlite3\n",
    "import random\n",
    "import string\n",
    "import re"
   ]
  },
  {
   "cell_type": "code",
   "execution_count": 3,
   "metadata": {},
   "outputs": [],
   "source": [
    "def date_of_birth():\n",
    "    year = random.randint(1960, 1993)\n",
    "    month = random.randint(1,12)\n",
    "    day = random.randint(1,30)\n",
    "    date = f\"{year}-{month}-{day}\"\n",
    "    return date"
   ]
  },
  {
   "cell_type": "code",
   "execution_count": 4,
   "metadata": {},
   "outputs": [],
   "source": [
    "def middle_initial():\n",
    "    letter = random.choice(string.ascii_letters).upper()\n",
    "    return letter"
   ]
  },
  {
   "cell_type": "code",
   "execution_count": 5,
   "metadata": {},
   "outputs": [],
   "source": [
    "def doc_number():\n",
    "    doc = f\"\"\"{random.randint(1,10)}{random.choice(string.ascii_letters).upper()}{random.choice(string.ascii_letters).upper()}{random.randint(1,10)}{random.randint(1,10)}{random.choice(string.ascii_letters).upper()}{random.choice(string.ascii_letters).upper()}{random.choice(string.ascii_letters).upper()}{random.randint(1,10)}\"\"\"\n",
    "    return doc"
   ]
  },
  {
   "cell_type": "code",
   "execution_count": 6,
   "metadata": {},
   "outputs": [],
   "source": [
    "con = sqlite3.connect('../data/universidade_database.db')\n",
    "cur = con.cursor()"
   ]
  },
  {
   "cell_type": "code",
   "execution_count": 6,
   "metadata": {},
   "outputs": [],
   "source": [
    "def next_id():\n",
    "    count = cur.execute(\"SELECT COUNT(*) FROM person\")\n",
    "    amount = count.fetchall()\n",
    "    last = amount[0][0]\n",
    "    next_id = last+1\n",
    "    return next_id"
   ]
  },
  {
   "cell_type": "code",
   "execution_count": 7,
   "metadata": {},
   "outputs": [
    {
     "data": {
      "text/plain": [
       "1031"
      ]
     },
     "execution_count": 7,
     "metadata": {},
     "output_type": "execute_result"
    }
   ],
   "source": [
    "next_id()"
   ]
  },
  {
   "cell_type": "code",
   "execution_count": 8,
   "metadata": {},
   "outputs": [],
   "source": [
    "def next_id_teacher():\n",
    "    count = cur.execute(\"SELECT COUNT(*) FROM teacher\")\n",
    "    amount = count.fetchall()\n",
    "    last = amount[0][0]\n",
    "    next_id = last+1\n",
    "    return next_id"
   ]
  },
  {
   "cell_type": "code",
   "execution_count": 9,
   "metadata": {},
   "outputs": [
    {
     "data": {
      "text/plain": [
       "31"
      ]
     },
     "execution_count": 9,
     "metadata": {},
     "output_type": "execute_result"
    }
   ],
   "source": [
    "next_id_teacher()"
   ]
  },
  {
   "cell_type": "code",
   "execution_count": 11,
   "metadata": {},
   "outputs": [],
   "source": [
    "teachers = []"
   ]
  },
  {
   "cell_type": "code",
   "execution_count": 12,
   "metadata": {},
   "outputs": [],
   "source": [
    "for row in cur.execute(\"SELECT courseid, teacher FROM course\"):\n",
    "    teachers.append(row[1])"
   ]
  },
  {
   "cell_type": "code",
   "execution_count": 13,
   "metadata": {},
   "outputs": [],
   "source": [
    "teachers_splited = []\n",
    "for linha in teachers:\n",
    "    teachers_splited.append(linha.split())"
   ]
  },
  {
   "cell_type": "code",
   "execution_count": 14,
   "metadata": {},
   "outputs": [],
   "source": [
    "def first_name(var):\n",
    "    return teachers_splited[var][0]"
   ]
  },
  {
   "cell_type": "code",
   "execution_count": 15,
   "metadata": {},
   "outputs": [],
   "source": [
    "def last_name(var):\n",
    "    return teachers_splited[var][1]"
   ]
  },
  {
   "cell_type": "code",
   "execution_count": 161,
   "metadata": {},
   "outputs": [],
   "source": [
    "def query(i):\n",
    "    sqlite_insert_query = f\"\"\"INSERT INTO person VALUES ('{next_id()}', '{first_name(i)}', '{middle_initial()}', '{last_name(i)}', '{date_of_birth()}')\"\"\"\n",
    "    return sqlite_insert_query"
   ]
  },
  {
   "cell_type": "code",
   "execution_count": 162,
   "metadata": {},
   "outputs": [],
   "source": [
    "i=0\n",
    "for nome in teachers_splited:\n",
    "    count = cur.execute(query(i))\n",
    "    con.commit()\n",
    "    i+=1"
   ]
  },
  {
   "cell_type": "code",
   "execution_count": 16,
   "metadata": {},
   "outputs": [
    {
     "data": {
      "text/plain": [
       "[(1030,)]"
      ]
     },
     "execution_count": 16,
     "metadata": {},
     "output_type": "execute_result"
    }
   ],
   "source": [
    "cur.execute('SELECT COUNT(*) FROM person')\n",
    "cur.fetchall()"
   ]
  },
  {
   "cell_type": "code",
   "execution_count": 17,
   "metadata": {},
   "outputs": [
    {
     "data": {
      "text/plain": [
       "[(1001, 'Kellen', 'I', 'Horton', '1965-10-20')]"
      ]
     },
     "execution_count": 17,
     "metadata": {},
     "output_type": "execute_result"
    }
   ],
   "source": [
    "cur.execute('SELECT * FROM person WHERE personid=1001')\n",
    "cur.fetchall()"
   ]
  },
  {
   "cell_type": "code",
   "execution_count": null,
   "metadata": {},
   "outputs": [],
   "source": [
    "cur.execute(\"DELETE FROM person WHERE personid>1030\")"
   ]
  },
  {
   "cell_type": "code",
   "execution_count": 39,
   "metadata": {},
   "outputs": [
    {
     "name": "stdout",
     "output_type": "stream",
     "text": [
      "(679, 'Kellen', 'L', 'White', '1987-06-25')\n",
      "(1001, 'Kellen', 'I', 'Horton', '1965-10-20')\n"
     ]
    }
   ],
   "source": [
    "for row in cur.execute(f\"SELECT * FROM person\"):\n",
    "        i=0\n",
    "        for row in cur.execute(f\"SELECT * FROM person WHERE firstname='{teachers_splited[i][0]}'\"):\n",
    "            print(row)\n",
    "            i+=1"
   ]
  },
  {
   "cell_type": "code",
   "execution_count": 18,
   "metadata": {},
   "outputs": [
    {
     "name": "stdout",
     "output_type": "stream",
     "text": [
      "(679, 'Kellen', 'L', 'White', '1987-06-25')\n",
      "(1001, 'Kellen', 'I', 'Horton', '1965-10-20')\n"
     ]
    }
   ],
   "source": [
    "i=0\n",
    "for row in cur.execute(f\"SELECT * FROM person WHERE firstname='{teachers_splited[i][0]}'\"):\n",
    "    i+=1\n",
    "    print(row)"
   ]
  },
  {
   "cell_type": "code",
   "execution_count": 19,
   "metadata": {},
   "outputs": [],
   "source": [
    "persons = []\n",
    "for row in cur.execute(\"SELECT personid, firstname, lastname FROM person\"):\n",
    "    persons.append(row)"
   ]
  },
  {
   "cell_type": "code",
   "execution_count": 20,
   "metadata": {},
   "outputs": [
    {
     "data": {
      "text/plain": [
       "1030"
      ]
     },
     "execution_count": 20,
     "metadata": {},
     "output_type": "execute_result"
    }
   ],
   "source": [
    "len(persons)"
   ]
  },
  {
   "cell_type": "code",
   "execution_count": null,
   "metadata": {},
   "outputs": [],
   "source": [
    "for firstname in persons:\n",
    "    for name in teachers_splited:\n",
    "        if firstname[1] == name[0] and firstname[2] == name[1]:\n",
    "            print(f\"{firstname[0]}, {name[0]}, {name[1]}\")\n",
    "            query_teacher = f\"\"\"INSERT INTO teacher VALUES ('{next_id_teacher()}', '{firstname[0]}', '{doc_number()}')\"\"\"\n",
    "            count = cur.execute(query_teacher)\n",
    "            con.commit()"
   ]
  },
  {
   "cell_type": "code",
   "execution_count": 8,
   "metadata": {},
   "outputs": [
    {
     "data": {
      "text/plain": [
       "[(1, 1001, '2QF59ZTF10'),\n",
       " (2, 1002, '8IO410ZAJ4'),\n",
       " (3, 1003, '6NJ43EWH7'),\n",
       " (4, 1004, '10GS104FJY2'),\n",
       " (5, 1005, '9RC109MRJ3'),\n",
       " (6, 1006, '4IP79NKA3'),\n",
       " (7, 1007, '2SP410MBJ4'),\n",
       " (8, 1008, '6HL101QWY9'),\n",
       " (9, 1009, '1FG110GXR4'),\n",
       " (10, 1010, '6AA56IYT3'),\n",
       " (11, 1011, '4WJ34HPV3'),\n",
       " (12, 1012, '4HY101LMX9'),\n",
       " (13, 1013, '5BL102DWP2'),\n",
       " (14, 1014, '6HD31YEU5'),\n",
       " (15, 1015, '2HR21MWY3'),\n",
       " (16, 1016, '10CY51YPD5'),\n",
       " (17, 1017, '6DA16NCL2'),\n",
       " (18, 1018, '4ZW53PHE5'),\n",
       " (19, 1019, '3ZC61OHQ7'),\n",
       " (20, 1020, '5SW43IJG9'),\n",
       " (21, 1021, '2BS38ONZ4'),\n",
       " (22, 1022, '7BZ106HUR2'),\n",
       " (23, 1023, '7EK17YHK10'),\n",
       " (24, 1024, '1MC11NFP1'),\n",
       " (25, 1025, '3RG54SVY1'),\n",
       " (26, 1026, '2OM19VCD7'),\n",
       " (27, 1027, '8VI25PVB2'),\n",
       " (28, 1028, '6JV53JSW5'),\n",
       " (29, 1029, '5HW109DDJ4'),\n",
       " (30, 1030, '9WK101QEC10')]"
      ]
     },
     "execution_count": 8,
     "metadata": {},
     "output_type": "execute_result"
    }
   ],
   "source": [
    "cur.execute(\"SELECT * FROM teacher\")\n",
    "cur.fetchall()"
   ]
  },
  {
   "cell_type": "code",
   "execution_count": 23,
   "metadata": {},
   "outputs": [
    {
     "data": {
      "text/plain": [
       "[(1030,)]"
      ]
     },
     "execution_count": 23,
     "metadata": {},
     "output_type": "execute_result"
    }
   ],
   "source": [
    "cur.execute(\"SELECT COUNT(*) FROM person\")\n",
    "cur.fetchall()"
   ]
  },
  {
   "cell_type": "code",
   "execution_count": 24,
   "metadata": {},
   "outputs": [
    {
     "data": {
      "text/plain": [
       "[(30,)]"
      ]
     },
     "execution_count": 24,
     "metadata": {},
     "output_type": "execute_result"
    }
   ],
   "source": [
    "cur.execute(\"SELECT COUNT(*) FROM teacher\")\n",
    "cur.fetchall()"
   ]
  },
  {
   "cell_type": "code",
   "execution_count": 58,
   "metadata": {},
   "outputs": [],
   "source": [
    "con.close()"
   ]
  },
  {
   "cell_type": "code",
   "execution_count": 61,
   "metadata": {},
   "outputs": [],
   "source": [
    "cur.execute(\"DELETE FROM teacher WHERE teacherid>30\")\n",
    "con.commit()"
   ]
  }
 ],
 "metadata": {
  "kernelspec": {
   "display_name": "Python 3",
   "language": "python",
   "name": "python3"
  },
  "language_info": {
   "codemirror_mode": {
    "name": "ipython",
    "version": 3
   },
   "file_extension": ".py",
   "mimetype": "text/x-python",
   "name": "python",
   "nbconvert_exporter": "python",
   "pygments_lexer": "ipython3",
   "version": "3.10.9"
  },
  "orig_nbformat": 4
 },
 "nbformat": 4,
 "nbformat_minor": 2
}
