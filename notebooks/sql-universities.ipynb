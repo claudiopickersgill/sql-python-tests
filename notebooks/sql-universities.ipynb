{
 "cells": [
  {
   "cell_type": "code",
   "execution_count": 2,
   "metadata": {},
   "outputs": [],
   "source": [
    "import sqlite3\n",
    "import random\n",
    "import string\n",
    "import re"
   ]
  },
  {
   "cell_type": "code",
   "execution_count": 3,
   "metadata": {},
   "outputs": [],
   "source": [
    "def date_of_birth():\n",
    "    year = random.randint(1960, 1993)\n",
    "    month = random.randint(1,12)\n",
    "    day = random.randint(1,30)\n",
    "    date = f\"{year}-{month}-{day}\"\n",
    "    return date"
   ]
  },
  {
   "cell_type": "code",
   "execution_count": 4,
   "metadata": {},
   "outputs": [],
   "source": [
    "def middle_initial():\n",
    "    letter = random.choice(string.ascii_letters).upper()\n",
    "    return letter"
   ]
  },
  {
   "cell_type": "code",
   "execution_count": 5,
   "metadata": {},
   "outputs": [],
   "source": [
    "def doc_number():\n",
    "    doc = f\"\"\"{random.randint(1,10)}{random.choice(string.ascii_letters).upper()}{random.choice(string.ascii_letters).upper()}{random.randint(1,10)}{random.randint(1,10)}{random.choice(string.ascii_letters).upper()}{random.choice(string.ascii_letters).upper()}{random.choice(string.ascii_letters).upper()}{random.randint(1,10)}\"\"\"\n",
    "    return doc"
   ]
  },
  {
   "cell_type": "code",
   "execution_count": 63,
   "metadata": {},
   "outputs": [],
   "source": [
    "con = sqlite3.connect('../data/universidade.db')\n",
    "cur = con.cursor()"
   ]
  },
  {
   "cell_type": "code",
   "execution_count": 7,
   "metadata": {},
   "outputs": [],
   "source": [
    "def next_id():\n",
    "    count = cur.execute(\"SELECT COUNT(*) FROM person\")\n",
    "    amount = count.fetchall()\n",
    "    last = amount[0][0]\n",
    "    next_id = last+1\n",
    "    return next_id"
   ]
  },
  {
   "cell_type": "code",
   "execution_count": 8,
   "metadata": {},
   "outputs": [
    {
     "data": {
      "text/plain": [
       "1031"
      ]
     },
     "execution_count": 8,
     "metadata": {},
     "output_type": "execute_result"
    }
   ],
   "source": [
    "next_id()"
   ]
  },
  {
   "cell_type": "code",
   "execution_count": 9,
   "metadata": {},
   "outputs": [],
   "source": [
    "def next_id_teacher():\n",
    "    count = cur.execute(\"SELECT COUNT(*) FROM teacher\")\n",
    "    amount = count.fetchall()\n",
    "    last = amount[0][0]\n",
    "    next_id = last+1\n",
    "    return next_id"
   ]
  },
  {
   "cell_type": "code",
   "execution_count": 12,
   "metadata": {},
   "outputs": [
    {
     "data": {
      "text/plain": [
       "31"
      ]
     },
     "execution_count": 12,
     "metadata": {},
     "output_type": "execute_result"
    }
   ],
   "source": [
    "next_id_teacher()"
   ]
  },
  {
   "cell_type": "code",
   "execution_count": 34,
   "metadata": {},
   "outputs": [],
   "source": [
    "teachers = []"
   ]
  },
  {
   "cell_type": "code",
   "execution_count": 35,
   "metadata": {},
   "outputs": [],
   "source": [
    "for row in cur.execute(\"SELECT courseid, teacher FROM course\"):\n",
    "    teachers.append(row[1])"
   ]
  },
  {
   "cell_type": "code",
   "execution_count": 36,
   "metadata": {},
   "outputs": [],
   "source": [
    "teachers_splited = []\n",
    "for linha in teachers:\n",
    "    teachers_splited.append(linha.split())"
   ]
  },
  {
   "cell_type": "code",
   "execution_count": 16,
   "metadata": {},
   "outputs": [],
   "source": [
    "def first_name(var):\n",
    "    return teachers_splited[var][0]"
   ]
  },
  {
   "cell_type": "code",
   "execution_count": 17,
   "metadata": {},
   "outputs": [],
   "source": [
    "def last_name(var):\n",
    "    return teachers_splited[var][1]"
   ]
  },
  {
   "cell_type": "code",
   "execution_count": 161,
   "metadata": {},
   "outputs": [],
   "source": [
    "def query(i):\n",
    "    sqlite_insert_query = f\"\"\"INSERT INTO person VALUES ('{next_id()}', '{first_name(i)}', '{middle_initial()}', '{last_name(i)}', '{date_of_birth()}')\"\"\"\n",
    "    return sqlite_insert_query"
   ]
  },
  {
   "cell_type": "code",
   "execution_count": 162,
   "metadata": {},
   "outputs": [],
   "source": [
    "i=0\n",
    "for nome in teachers_splited:\n",
    "    count = cur.execute(query(i))\n",
    "    con.commit()\n",
    "    i+=1"
   ]
  },
  {
   "cell_type": "code",
   "execution_count": 37,
   "metadata": {},
   "outputs": [
    {
     "data": {
      "text/plain": [
       "[(1030,)]"
      ]
     },
     "execution_count": 37,
     "metadata": {},
     "output_type": "execute_result"
    }
   ],
   "source": [
    "cur.execute('SELECT COUNT(*) FROM person')\n",
    "cur.fetchall()"
   ]
  },
  {
   "cell_type": "code",
   "execution_count": 38,
   "metadata": {},
   "outputs": [
    {
     "data": {
      "text/plain": [
       "[(1001, 'Kellen', 'I', 'Horton', '1965-10-20')]"
      ]
     },
     "execution_count": 38,
     "metadata": {},
     "output_type": "execute_result"
    }
   ],
   "source": [
    "cur.execute('SELECT * FROM person WHERE personid=1001')\n",
    "cur.fetchall()"
   ]
  },
  {
   "cell_type": "code",
   "execution_count": 165,
   "metadata": {},
   "outputs": [
    {
     "data": {
      "text/plain": [
       "<sqlite3.Cursor at 0x2789b2ad640>"
      ]
     },
     "execution_count": 165,
     "metadata": {},
     "output_type": "execute_result"
    }
   ],
   "source": [
    "cur.execute(\"DELETE FROM person WHERE personid>1030\")"
   ]
  },
  {
   "cell_type": "code",
   "execution_count": 39,
   "metadata": {},
   "outputs": [
    {
     "name": "stdout",
     "output_type": "stream",
     "text": [
      "(679, 'Kellen', 'L', 'White', '1987-06-25')\n",
      "(1001, 'Kellen', 'I', 'Horton', '1965-10-20')\n"
     ]
    }
   ],
   "source": [
    "for row in cur.execute(f\"SELECT * FROM person\"):\n",
    "        i=0\n",
    "        for row in cur.execute(f\"SELECT * FROM person WHERE firstname='{teachers_splited[i][0]}'\"):\n",
    "            print(row)\n",
    "            i+=1"
   ]
  },
  {
   "cell_type": "code",
   "execution_count": 40,
   "metadata": {},
   "outputs": [
    {
     "name": "stdout",
     "output_type": "stream",
     "text": [
      "(679, 'Kellen', 'L', 'White', '1987-06-25')\n",
      "(1001, 'Kellen', 'I', 'Horton', '1965-10-20')\n"
     ]
    }
   ],
   "source": [
    "i=0\n",
    "for row in cur.execute(f\"SELECT * FROM person WHERE firstname='{teachers_splited[i][0]}'\"):\n",
    "    i+=1\n",
    "    print(row)"
   ]
  },
  {
   "cell_type": "code",
   "execution_count": 41,
   "metadata": {},
   "outputs": [],
   "source": [
    "persons = []\n",
    "for row in cur.execute(\"SELECT personid, firstname, lastname FROM person\"):\n",
    "    persons.append(row)"
   ]
  },
  {
   "cell_type": "code",
   "execution_count": 42,
   "metadata": {},
   "outputs": [
    {
     "data": {
      "text/plain": [
       "1030"
      ]
     },
     "execution_count": 42,
     "metadata": {},
     "output_type": "execute_result"
    }
   ],
   "source": [
    "len(persons)"
   ]
  },
  {
   "cell_type": "code",
   "execution_count": null,
   "metadata": {},
   "outputs": [],
   "source": [
    "for firstname in persons:\n",
    "    for name in teachers_splited:\n",
    "        if firstname[1] == name[0] and firstname[2] == name[1]:\n",
    "            print(f\"{firstname[0]}, {name[0]}, {name[1]}\")\n",
    "            query_teacher = f\"\"\"INSERT INTO teacher VALUES ('{next_id_teacher()}', '{firstname[0]}', '{doc_number()}')\"\"\"\n",
    "            count = cur.execute(query_teacher)\n",
    "            con.commit()"
   ]
  },
  {
   "cell_type": "code",
   "execution_count": null,
   "metadata": {},
   "outputs": [],
   "source": [
    "cur.execute(\"SELECT * FROM teacher\")\n",
    "cur.fetchall()"
   ]
  },
  {
   "cell_type": "code",
   "execution_count": 30,
   "metadata": {},
   "outputs": [
    {
     "data": {
      "text/plain": [
       "[(1030,)]"
      ]
     },
     "execution_count": 30,
     "metadata": {},
     "output_type": "execute_result"
    }
   ],
   "source": [
    "cur.execute(\"SELECT COUNT(*) FROM person\")\n",
    "cur.fetchall()"
   ]
  },
  {
   "cell_type": "code",
   "execution_count": 65,
   "metadata": {},
   "outputs": [
    {
     "data": {
      "text/plain": [
       "[(30,)]"
      ]
     },
     "execution_count": 65,
     "metadata": {},
     "output_type": "execute_result"
    }
   ],
   "source": [
    "cur.execute(\"SELECT COUNT(*) FROM teacher\")\n",
    "cur.fetchall()"
   ]
  },
  {
   "cell_type": "code",
   "execution_count": 58,
   "metadata": {},
   "outputs": [],
   "source": [
    "con.close()"
   ]
  },
  {
   "cell_type": "code",
   "execution_count": 61,
   "metadata": {},
   "outputs": [],
   "source": [
    "cur.execute(\"DELETE FROM teacher WHERE teacherid>30\")\n",
    "con.commit()"
   ]
  }
 ],
 "metadata": {
  "kernelspec": {
   "display_name": "Python 3",
   "language": "python",
   "name": "python3"
  },
  "language_info": {
   "codemirror_mode": {
    "name": "ipython",
    "version": 3
   },
   "file_extension": ".py",
   "mimetype": "text/x-python",
   "name": "python",
   "nbconvert_exporter": "python",
   "pygments_lexer": "ipython3",
   "version": "3.10.9"
  },
  "orig_nbformat": 4
 },
 "nbformat": 4,
 "nbformat_minor": 2
}
