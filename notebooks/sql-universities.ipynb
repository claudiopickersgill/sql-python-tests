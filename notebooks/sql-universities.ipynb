{
 "cells": [
  {
   "attachments": {},
   "cell_type": "markdown",
   "metadata": {},
   "source": [
    "### Import Libs"
   ]
  },
  {
   "cell_type": "code",
   "execution_count": 105,
   "metadata": {},
   "outputs": [],
   "source": [
    "import sqlite3\n",
    "import random\n",
    "import string"
   ]
  },
  {
   "attachments": {},
   "cell_type": "markdown",
   "metadata": {},
   "source": [
    "### BD Connection"
   ]
  },
  {
   "cell_type": "code",
   "execution_count": null,
   "metadata": {},
   "outputs": [],
   "source": [
    "con = sqlite3.connect('../data/universidade_database.db')\n",
    "cur = con.cursor()"
   ]
  },
  {
   "attachments": {},
   "cell_type": "markdown",
   "metadata": {},
   "source": [
    "### Some function to work with table data"
   ]
  },
  {
   "attachments": {},
   "cell_type": "markdown",
   "metadata": {},
   "source": [
    "#### Person Table"
   ]
  },
  {
   "cell_type": "code",
   "execution_count": 2,
   "metadata": {},
   "outputs": [],
   "source": [
    "# randomize date to add new entry when import teacher from teacher table\n",
    "def date_of_birth():\n",
    "    year = random.randint(1960, 1993)\n",
    "    month = random.randint(1,12)\n",
    "    day = random.randint(1,30)\n",
    "    date = f\"{year}-{month}-{day}\"\n",
    "    return date"
   ]
  },
  {
   "cell_type": "code",
   "execution_count": null,
   "metadata": {},
   "outputs": [],
   "source": [
    "# get de last id in person table to add a new entry\n",
    "def next_id():\n",
    "    count = cur.execute(\"SELECT COUNT(*) FROM person\")\n",
    "    amount = count.fetchall()\n",
    "    last = amount[0][0]\n",
    "    next_id = last+1\n",
    "    return next_id"
   ]
  },
  {
   "attachments": {},
   "cell_type": "markdown",
   "metadata": {},
   "source": [
    "#### Teacher Table"
   ]
  },
  {
   "cell_type": "code",
   "execution_count": null,
   "metadata": {},
   "outputs": [],
   "source": [
    "# get de last id in teacher table to add a new entry\n",
    "def next_id_teacher():\n",
    "    count = cur.execute(\"SELECT COUNT(*) FROM teacher\")\n",
    "    amount = count.fetchall()\n",
    "    last = amount[0][0]\n",
    "    next_id = last+1\n",
    "    return next_id"
   ]
  },
  {
   "cell_type": "code",
   "execution_count": 4,
   "metadata": {},
   "outputs": [],
   "source": [
    "# randomize a doc_number to all entries\n",
    "def doc_number_teacher():\n",
    "    doc = f\"\"\"{random.randint(1,10)}{random.choice(string.ascii_letters).upper()}{random.choice(string.ascii_letters).upper()}{random.randint(1,10)}{random.randint(1,10)}{random.choice(string.ascii_letters).upper()}{random.choice(string.ascii_letters).upper()}{random.choice(string.ascii_letters).upper()}{random.randint(1,10)}\"\"\"\n",
    "    return doc"
   ]
  },
  {
   "cell_type": "code",
   "execution_count": 3,
   "metadata": {},
   "outputs": [],
   "source": [
    "# randomize middle inital letter to name\n",
    "def middle_initial():\n",
    "    letter = random.choice(string.ascii_letters).upper()\n",
    "    return letter"
   ]
  },
  {
   "cell_type": "code",
   "execution_count": 12,
   "metadata": {},
   "outputs": [],
   "source": [
    "# Extract all teachers names from course table and put ir in a list\n",
    "teachers = []\n",
    "for row in cur.execute(\"SELECT course_id, teacher FROM course\"):\n",
    "    teachers.append(row[1])"
   ]
  },
  {
   "cell_type": "code",
   "execution_count": 13,
   "metadata": {},
   "outputs": [],
   "source": [
    "# splited first e last name from a teacher and put both in a list of tuples\n",
    "teachers_splited = []\n",
    "for linha in teachers:\n",
    "    teachers_splited.append(linha.split())"
   ]
  },
  {
   "cell_type": "code",
   "execution_count": 14,
   "metadata": {},
   "outputs": [],
   "source": [
    "# get first name from teacher_splited list\n",
    "def first_name(var):\n",
    "    return teachers_splited[var][0]"
   ]
  },
  {
   "cell_type": "code",
   "execution_count": 15,
   "metadata": {},
   "outputs": [],
   "source": [
    "# get last name from teacher_splited list\n",
    "def last_name(var):\n",
    "    return teachers_splited[var][1]"
   ]
  },
  {
   "cell_type": "code",
   "execution_count": 161,
   "metadata": {},
   "outputs": [],
   "source": [
    "# quety to create a pattern to insert all teacher in teacher_splited in teacher table\n",
    "def query(i):\n",
    "    sqlite_insert_query = f\"\"\"INSERT INTO person VALUES ('{next_id()}', '{first_name(i)}', '{middle_initial()}', '{last_name(i)}', '{date_of_birth()}')\"\"\"\n",
    "    return sqlite_insert_query"
   ]
  },
  {
   "cell_type": "code",
   "execution_count": 162,
   "metadata": {},
   "outputs": [],
   "source": [
    "# execute the query above for data in teachers_splited\n",
    "i=0\n",
    "for nome in teachers_splited:\n",
    "    count = cur.execute(query(i))\n",
    "    con.commit()\n",
    "    i+=1"
   ]
  },
  {
   "attachments": {},
   "cell_type": "markdown",
   "metadata": {},
   "source": [
    "#### Student Table"
   ]
  },
  {
   "cell_type": "code",
   "execution_count": 106,
   "metadata": {},
   "outputs": [],
   "source": [
    "# randomize a doc_number for all students\n",
    "def doc_number_student():\n",
    "    doc = f\"\"\"{random.choice(string.ascii_letters).upper()}{random.randint(1,10)}{random.randint(1,10)}{random.choice(string.ascii_letters).upper()}{random.choice(string.ascii_letters).upper()}{random.randint(1,10)}\"\"\"\n",
    "    return doc"
   ]
  },
  {
   "cell_type": "code",
   "execution_count": 102,
   "metadata": {},
   "outputs": [],
   "source": [
    "# creat doc_number column in student table\n",
    "cur.execute(f\"ALTER TABLE student ADD doc_number\")\n",
    "con.commit()"
   ]
  },
  {
   "cell_type": "code",
   "execution_count": 107,
   "metadata": {},
   "outputs": [],
   "source": [
    "# update doc_number in student table\n",
    "for id in range(1001):\n",
    "    cur.execute(f\"UPDATE student SET doc_number = '{doc_number_student()}' WHERE student_id={id}\")\n",
    "    con.commit()"
   ]
  },
  {
   "attachments": {},
   "cell_type": "markdown",
   "metadata": {},
   "source": [
    "### Populating Teachers Table"
   ]
  },
  {
   "cell_type": "code",
   "execution_count": null,
   "metadata": {},
   "outputs": [],
   "source": [
    "# list of all entries in person table. students and teachers together\n",
    "persons = []\n",
    "for row in cur.execute(\"SELECT person_id, first_name, last_name FROM person\"):\n",
    "    persons.append(row)"
   ]
  },
  {
   "cell_type": "code",
   "execution_count": null,
   "metadata": {},
   "outputs": [],
   "source": [
    "# for every name in person and evey name in teacher_splited... add just teachers name's at teacher table with ID, complete name (first and last names) and doc_number\n",
    "for firstname in persons:\n",
    "    for name in teachers_splited:\n",
    "        if firstname[1] == name[0] and firstname[2] == name[1]:\n",
    "            print(f\"{firstname[0]}, {name[0]}, {name[1]}\")\n",
    "            query_teacher = f\"\"\"INSERT INTO teacher VALUES ('{next_id_teacher()}', '{firstname[0]}', '{doc_number_teacher()}')\"\"\"\n",
    "            count = cur.execute(query_teacher)\n",
    "            con.commit()"
   ]
  },
  {
   "attachments": {},
   "cell_type": "markdown",
   "metadata": {},
   "source": [
    "### Modifying Tables"
   ]
  },
  {
   "cell_type": "code",
   "execution_count": 32,
   "metadata": {},
   "outputs": [],
   "source": [
    "# geting emails from student table\n",
    "emails = []\n",
    "for row in cur.execute(\"SELECT email FROM student\"):\n",
    "    emails.append(row[0])"
   ]
  },
  {
   "cell_type": "code",
   "execution_count": 33,
   "metadata": {},
   "outputs": [],
   "source": [
    "# replacing \"@university\" for \"@al.university\" \n",
    "new_email = []\n",
    "for email in emails:\n",
    "    new = email.replace(\"university\", \"al.university\")\n",
    "    new_email.append(new)"
   ]
  },
  {
   "cell_type": "code",
   "execution_count": 31,
   "metadata": {},
   "outputs": [],
   "source": [
    "# create email column in person table\n",
    "cur.execute(\"ALTER TABLE person ADD email\")\n",
    "con.commit()"
   ]
  },
  {
   "cell_type": "code",
   "execution_count": 34,
   "metadata": {},
   "outputs": [],
   "source": [
    "# update student's new email format at person table (transfer email from students to person)\n",
    "id = 1\n",
    "id_lista = 0\n",
    "for numro in new_email:\n",
    "    cur.execute(f\"UPDATE person SET email = '{new_email[id_lista]}' WHERE personid={id}\")\n",
    "    id+=1\n",
    "    id_lista+=1\n",
    "    con.commit()\n"
   ]
  },
  {
   "cell_type": "code",
   "execution_count": 18,
   "metadata": {},
   "outputs": [],
   "source": [
    "# update teacher's email in person table\n",
    "id = 1000 #where the teacher starts\n",
    "for numero in range(31):\n",
    "    cur.execute(f\"UPDATE person SET email = person.firstname||person.lastname||'@prof.univertisy.com' WHERE personid={id}\")\n",
    "    id+=1\n",
    "    con.commit()"
   ]
  },
  {
   "cell_type": "code",
   "execution_count": 74,
   "metadata": {},
   "outputs": [],
   "source": [
    "# geting teacher's id from person table and put it in a list\n",
    "ids = []\n",
    "for row in cur.execute('SELECT t.person_id FROM person p JOIN teacher t ON p.person_id = t.teacher_id'):\n",
    "    ids.append(row[0])\n"
   ]
  },
  {
   "cell_type": "code",
   "execution_count": 84,
   "metadata": {},
   "outputs": [],
   "source": [
    "# exchanging the teacher's name for teacher's id in course table\n",
    "x = 1\n",
    "for id in ids:\n",
    "    cur.execute(f\"UPDATE course SET teacher_id = {id} WHERE course_id={x}\")\n",
    "    x+=1\n",
    "    con.commit()"
   ]
  },
  {
   "attachments": {},
   "cell_type": "markdown",
   "metadata": {},
   "source": [
    "### Renaming Columns"
   ]
  },
  {
   "cell_type": "code",
   "execution_count": 54,
   "metadata": {},
   "outputs": [],
   "source": [
    "cur.execute(\"ALTER TABLE person RENAME COLUMN person_ID TO person_id\")\n",
    "con.commit()"
   ]
  },
  {
   "cell_type": "code",
   "execution_count": null,
   "metadata": {},
   "outputs": [],
   "source": [
    "cur.execute(\"ALTER TABLE course RENAME COLUMN name TO course_name\")\n",
    "con.commit()"
   ]
  },
  {
   "cell_type": "code",
   "execution_count": 52,
   "metadata": {},
   "outputs": [],
   "source": [
    "cur.execute(\"ALTER TABLE credit RENAME COLUMN courseid TO course_id\")\n",
    "con.commit()"
   ]
  },
  {
   "cell_type": "code",
   "execution_count": 55,
   "metadata": {},
   "outputs": [],
   "source": [
    "cur.execute(\"ALTER TABLE student RENAME COLUMN personid TO person_id\")\n",
    "con.commit()"
   ]
  },
  {
   "cell_type": "code",
   "execution_count": 58,
   "metadata": {},
   "outputs": [],
   "source": [
    "cur.execute(\"ALTER TABLE teacher RENAME COLUMN docnumber TO doc_number\")\n",
    "con.commit()"
   ]
  },
  {
   "attachments": {},
   "cell_type": "markdown",
   "metadata": {},
   "source": [
    "### SELECTS"
   ]
  },
  {
   "cell_type": "code",
   "execution_count": null,
   "metadata": {},
   "outputs": [],
   "source": [
    "# count entries in person table\n",
    "cur.execute('SELECT COUNT(*) FROM person')\n",
    "cur.fetchall()"
   ]
  },
  {
   "cell_type": "code",
   "execution_count": null,
   "metadata": {},
   "outputs": [],
   "source": [
    "cur.execute(\"SELECT * FROM teacher\")\n",
    "cur.fetchall()"
   ]
  },
  {
   "cell_type": "code",
   "execution_count": null,
   "metadata": {},
   "outputs": [],
   "source": [
    "cur.execute(\"SELECT COUNT(*) FROM person\")\n",
    "cur.fetchall()"
   ]
  },
  {
   "cell_type": "code",
   "execution_count": null,
   "metadata": {},
   "outputs": [],
   "source": [
    "cur.execute(\"SELECT COUNT(*) FROM teacher\")\n",
    "cur.fetchall()"
   ]
  },
  {
   "cell_type": "code",
   "execution_count": null,
   "metadata": {},
   "outputs": [],
   "source": [
    "cur.execute(\"SELECT * FROM person WHERE personid>1000\")\n",
    "cur.fetchall()"
   ]
  }
 ],
 "metadata": {
  "kernelspec": {
   "display_name": "Python 3",
   "language": "python",
   "name": "python3"
  },
  "language_info": {
   "codemirror_mode": {
    "name": "ipython",
    "version": 3
   },
   "file_extension": ".py",
   "mimetype": "text/x-python",
   "name": "python",
   "nbconvert_exporter": "python",
   "pygments_lexer": "ipython3",
   "version": "3.10.9"
  },
  "orig_nbformat": 4
 },
 "nbformat": 4,
 "nbformat_minor": 2
}
