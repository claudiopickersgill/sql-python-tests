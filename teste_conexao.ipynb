{
 "cells": [
  {
   "cell_type": "code",
   "execution_count": 55,
   "metadata": {},
   "outputs": [],
   "source": [
    "import sqlite3\n",
    "import pandas as pd"
   ]
  },
  {
   "cell_type": "code",
   "execution_count": 56,
   "metadata": {},
   "outputs": [],
   "source": [
    "conn = sqlite3.connect('data/movie_database.db')"
   ]
  },
  {
   "cell_type": "code",
   "execution_count": 57,
   "metadata": {},
   "outputs": [],
   "source": [
    "cur = conn.cursor()"
   ]
  },
  {
   "cell_type": "code",
   "execution_count": 59,
   "metadata": {},
   "outputs": [],
   "source": [
    "res = cur.execute(\"SELECT name FROM directors\")"
   ]
  },
  {
   "cell_type": "code",
   "execution_count": null,
   "metadata": {},
   "outputs": [],
   "source": [
    "res.fetchall()"
   ]
  },
  {
   "cell_type": "code",
   "execution_count": 66,
   "metadata": {},
   "outputs": [],
   "source": [
    "lista = []"
   ]
  },
  {
   "cell_type": "code",
   "execution_count": 67,
   "metadata": {},
   "outputs": [
    {
     "name": "stdout",
     "output_type": "stream",
     "text": [
      "(1, 'Francis Ford Coppola')\n",
      "(2, 'Frank Darabont')\n",
      "(3, 'Steven Spielberg')\n",
      "(4, 'Martin Scorsese')\n",
      "(5, 'Milos Forman')\n",
      "(6, 'James Cameron')\n",
      "(7, 'Robert Zemeckis')\n",
      "(8, 'George Lucas')\n",
      "(9, 'Francis Coppola')\n",
      "(10, 'Ridley Scott')\n",
      "(11, 'Christopher Nolan')\n",
      "(12, 'David Fincher')\n",
      "(13, 'Andy Wachowski')\n",
      "(14, 'Andrew Stanton')\n",
      "(15, 'Lee Unkrich')\n",
      "(16, 'Quentin Tarantino')\n",
      "(17, 'Mel Gibson')\n",
      "(18, 'Michael Mann')\n",
      "(19, 'Gus Van Sant')\n",
      "(20, 'John Lasseter')\n",
      "(21, 'Brian De Palma')\n",
      "(22, 'Clint Eastwood')\n",
      "(23, 'Joel Coen')\n",
      "(24, 'Danny Boyle')\n",
      "(25, 'Ron Howard')\n",
      "(26, 'Oliver Stone')\n",
      "(27, 'Frank Miller')\n",
      "(28, 'Joss Whedon')\n",
      "(29, 'Richard Kelly')\n",
      "(30, 'Terry Gilliam')\n",
      "(31, 'Tom Hooper')\n",
      "(32, 'Peter Weir')\n"
     ]
    }
   ],
   "source": [
    "for row in cur.execute(\"SELECT id, name FROM directors\"):\n",
    "    print(row)\n",
    "    lista.append(row[1])"
   ]
  },
  {
   "cell_type": "code",
   "execution_count": null,
   "metadata": {},
   "outputs": [],
   "source": [
    "lista"
   ]
  },
  {
   "cell_type": "code",
   "execution_count": null,
   "metadata": {},
   "outputs": [],
   "source": []
  }
 ],
 "metadata": {
  "kernelspec": {
   "display_name": ".food_cluster",
   "language": "python",
   "name": "python3"
  },
  "language_info": {
   "codemirror_mode": {
    "name": "ipython",
    "version": 3
   },
   "file_extension": ".py",
   "mimetype": "text/x-python",
   "name": "python",
   "nbconvert_exporter": "python",
   "pygments_lexer": "ipython3",
   "version": "3.10.9"
  },
  "orig_nbformat": 4,
  "vscode": {
   "interpreter": {
    "hash": "7d18ca6acfadb32d9ba096cc111f63f09dfe565394d64a5b5f0ec529504c1632"
   }
  }
 },
 "nbformat": 4,
 "nbformat_minor": 2
}
